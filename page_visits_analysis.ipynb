{
 "cells": [
  {
   "cell_type": "markdown",
   "metadata": {
    "collapsed": true,
    "pycharm": {
     "name": "#%% md\n"
    }
   },
   "source": [
    "## Embodied Cognition on Wikipedia: Page views Analysis"
   ]
  },
  {
   "cell_type": "code",
   "source": [
    "import pandas as pd\n",
    "from matplotlib import pyplot as plt\n",
    "import datetime\n",
    "df = pd.read_csv('/Users/johnmadrid/Local/data/wiki_embodied_cognition.csv', delimiter=\",\", header=0, index_col=False)\n",
    "\n",
    "# Converting date to a datestamp type\n",
    "df[\"DateTime\"] = pd.to_datetime(df[\"DateTime\"])\n",
    "\n",
    "# # Check for missing values\n",
    "print(df.isnull().sum())\n",
    "\n",
    "# Setting DateTime as index\n",
    "df = df.set_index(\"DateTime\")\n",
    "# df.index"
   ],
   "metadata": {
    "collapsed": false,
    "pycharm": {
     "name": "#%%\n"
    }
   },
   "execution_count": 34,
   "outputs": [
    {
     "name": "stdout",
     "output_type": "stream",
     "text": [
      "DateTime                  0\n",
      "Embodied cognition[en]    0\n",
      "Cognitive science[en]     0\n",
      "Cognition[en]             0\n",
      "dtype: int64\n"
     ]
    }
   ]
  },
  {
   "cell_type": "code",
   "execution_count": 46,
   "outputs": [
    {
     "name": "stdout",
     "output_type": "stream",
     "text": [
      "Int64Index([2008, 2008, 2008, 2008, 2008, 2008, 2008, 2008, 2008, 2008,\n",
      "            ...\n",
      "            2022, 2022, 2022, 2022, 2022, 2022, 2022, 2022, 2022, 2022],\n",
      "           dtype='int64', name='DateTime', length=5190)\n"
     ]
    }
   ],
   "source": [
    "print(df.index.year)"
   ],
   "metadata": {
    "collapsed": false,
    "pycharm": {
     "name": "#%%\n"
    }
   }
  },
  {
   "cell_type": "code",
   "execution_count": 63,
   "outputs": [
    {
     "data": {
      "text/plain": "<Figure size 432x288 with 1 Axes>",
      "image/png": "[encoded data removed]"
     },
     "metadata": {
      "needs_background": "light"
     },
     "output_type": "display_data"
    }
   ],
   "source": [
    "# select the month\n",
    "df_month = df.index.month\n",
    "df_year = df.index.year\n",
    "# Moving averages per year (52 weeks window)\n",
    "df_mean = df['Embodied cognition[en]'].groupby(df_year).mean()\n",
    "\n",
    "ax = df_mean.plot()\n",
    "ax.set_xlabel(\"Date\")\n",
    "ax.set_ylabel(\"Page views\")\n",
    "ax.set_title(\"Yearly rolling mean\")\n",
    "\n",
    "plt.show()"
   ],
   "metadata": {
    "collapsed": false,
    "pycharm": {
     "name": "#%%\n"
    }
   }
  },
  {
   "cell_type": "code",
   "execution_count": 80,
   "outputs": [
    {
     "data": {
      "text/plain": "Int64Index([3, 3, 3, 3, 3, 3, 3, 3, 3, 3,\n            ...\n            3, 3, 3, 3, 3, 3, 3, 3, 3, 3],\n           dtype='int64', name='DateTime', length=366)"
     },
     "execution_count": 80,
     "metadata": {},
     "output_type": "execute_result"
    }
   ],
   "source": [
    "views_before_project = df['2020-03-15':'2021-03-15']\n",
    "views_during_project = df['2021-03-15':'2022-03-15']\n",
    "\n",
    "views_before_project_month = views_before_project.index.month\n",
    "views_during_project_month = views_during_project.index.month\n",
    "\n"
   ],
   "metadata": {
    "collapsed": false,
    "pycharm": {
     "name": "#%%\n"
    }
   }
  }
 ],
 "metadata": {
  "kernelspec": {
   "name": "python3810jvsc74a57bd03e020998c2fe0b254a9e4f093df7ec737de927d3a5d72205514527d8d04320e2",
   "language": "python",
   "display_name": "Python 3.8.10 64-bit (conda)"
  },
  "language_info": {
   "codemirror_mode": {
    "name": "ipython",
    "version": 2
   },
   "file_extension": ".py",
   "mimetype": "text/x-python",
   "name": "python",
   "nbconvert_exporter": "python",
   "pygments_lexer": "ipython2",
   "version": "2.7.6"
  }
 },
 "nbformat": 4,
 "nbformat_minor": 0
}