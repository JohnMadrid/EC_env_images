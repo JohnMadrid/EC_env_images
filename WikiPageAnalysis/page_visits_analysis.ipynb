{
 "cells": [
  {
   "cell_type": "markdown",
   "metadata": {
    "collapsed": true,
    "pycharm": {
     "name": "#%% md\n"
    }
   },
   "source": [
    "# Embodied cognition on Wikipedia: a data analysis\n",
    "In what follows, an analysis of the page edits and views count for the _\"Embodied cogtnition\"_ article on Wikipedia is done. The data is provided by the WikipediaStatistics at en.wikipedia.org"
   ]
  },
  {
   "cell_type": "markdown",
   "source": [
    "### Load data"
   ],
   "metadata": {
    "collapsed": false,
    "pycharm": {
     "name": "#%% md\n"
    }
   }
  },
  {
   "cell_type": "code",
   "source": [
    "import pandas as pd\n",
    "from matplotlib import pyplot as plt\n",
    "import datetime\n",
    "\n",
    "df_views_count = pd.read_csv('wiki_ec_page_views.csv', delimiter=\",\", header=0, index_col=False)\n",
    "\n",
    "df_edits_count = pd.read_csv('wiki_ec_edits_count2.csv', delimiter=\",\", header=0, index_col=False)\n",
    "\n",
    "# Converting date to a datestamp type\n",
    "df_views_count[\"DateTime\"] = pd.to_datetime(df_views_count[\"DateTime\"])\n",
    "df_edits_count[\"Month\"] = pd.to_datetime(df_edits_count[\"Month\"])\n"
   ],
   "metadata": {
    "collapsed": false,
    "pycharm": {
     "name": "#%%\n"
    }
   },
   "execution_count": 7,
   "outputs": []
  },
  {
   "cell_type": "markdown",
   "source": [
    "### 1. Data  preprocessing"
   ],
   "metadata": {
    "collapsed": false
   }
  },
  {
   "cell_type": "code",
   "source": [
    "# Check for missing values\n",
    "print(df_edits_count.isnull().sum())\n",
    "#\n",
    "# Setting DateTime as index from csv files\n",
    "df_views_count = df_views_count.set_index(\"DateTime\")\n",
    "df_edits_count = df_edits_count.set_index(\"Month\")\n",
    "\n",
    "df_edits_count.index"
   ],
   "metadata": {
    "collapsed": false,
    "pycharm": {
     "name": "#%%\n"
    }
   },
   "execution_count": 8,
   "outputs": [
    {
     "name": "stdout",
     "output_type": "stream",
     "text": [
      "Month             0\n",
      "Edits             0\n",
      "IPs               0\n",
      "IPs               0\n",
      "Minor edits       0\n",
      "Minor edits       0\n",
      "Size            208\n",
      "dtype: int64\n"
     ]
    },
    {
     "data": {
      "text/plain": "DatetimeIndex(['2002-04-01', '2002-05-01', '2002-06-01', '2002-07-01',\n               '2002-08-01', '2002-09-01', '2002-10-01', '2002-11-01',\n               '2002-12-01', '2004-01-01',\n               ...\n               '2021-06-01', '2021-07-01', '2021-08-01', '2021-09-01',\n               '2021-10-01', '2021-11-01', '2021-12-01', '2022-01-01',\n               '2022-02-01', '2022-03-01'],\n              dtype='datetime64[ns]', name='Month', length=228, freq=None)"
     },
     "execution_count": 8,
     "metadata": {},
     "output_type": "execute_result"
    }
   ]
  },
  {
   "cell_type": "markdown",
   "source": [
    "### 1. Edits count"
   ],
   "metadata": {
    "collapsed": false
   }
  },
  {
   "cell_type": "code",
   "execution_count": 79,
   "outputs": [
    {
     "data": {
      "text/plain": "            Edits  IPs  IPs   Minor edits  Minor edits     Size\nMonth                                                          \n2002-04-01      7    6    85            2            28     492\n2002-05-01      0    0     0            0             0       0\n2002-06-01      0    0     0            0             0       0\n2002-07-01      0    0     0            0             0       0\n2002-08-01      0    0     0            0             0       0\n...           ...  ...   ...          ...           ...     ...\n2021-11-01     19    2    10            2            10       0\n2021-12-01     53    1     1           17            32       0\n2022-01-01     87    0     0           31            35  166875\n2022-02-01    192    4     2           26            13       0\n2022-03-01     26    2     7            6            23       0\n\n[228 rows x 6 columns]",
      "text/html": "<div>\n<style scoped>\n    .dataframe tbody tr th:only-of-type {\n        vertical-align: middle;\n    }\n\n    .dataframe tbody tr th {\n        vertical-align: top;\n    }\n\n    .dataframe thead th {\n        text-align: right;\n    }\n</style>\n<table border=\"1\" class=\"dataframe\">\n  <thead>\n    <tr style=\"text-align: right;\">\n      <th></th>\n      <th>Edits</th>\n      <th>IPs</th>\n      <th>IPs</th>\n      <th>Minor edits</th>\n      <th>Minor edits</th>\n      <th>Size</th>\n    </tr>\n    <tr>\n      <th>Month</th>\n      <th></th>\n      <th></th>\n      <th></th>\n      <th></th>\n      <th></th>\n      <th></th>\n    </tr>\n  </thead>\n  <tbody>\n    <tr>\n      <th>2002-04-01</th>\n      <td>7</td>\n      <td>6</td>\n      <td>85</td>\n      <td>2</td>\n      <td>28</td>\n      <td>492</td>\n    </tr>\n    <tr>\n      <th>2002-05-01</th>\n      <td>0</td>\n      <td>0</td>\n      <td>0</td>\n      <td>0</td>\n      <td>0</td>\n      <td>0</td>\n    </tr>\n    <tr>\n      <th>2002-06-01</th>\n      <td>0</td>\n      <td>0</td>\n      <td>0</td>\n      <td>0</td>\n      <td>0</td>\n      <td>0</td>\n    </tr>\n    <tr>\n      <th>2002-07-01</th>\n      <td>0</td>\n      <td>0</td>\n      <td>0</td>\n      <td>0</td>\n      <td>0</td>\n      <td>0</td>\n    </tr>\n    <tr>\n      <th>2002-08-01</th>\n      <td>0</td>\n      <td>0</td>\n      <td>0</td>\n      <td>0</td>\n      <td>0</td>\n      <td>0</td>\n    </tr>\n    <tr>\n      <th>...</th>\n      <td>...</td>\n      <td>...</td>\n      <td>...</td>\n      <td>...</td>\n      <td>...</td>\n      <td>...</td>\n    </tr>\n    <tr>\n      <th>2021-11-01</th>\n      <td>19</td>\n      <td>2</td>\n      <td>10</td>\n      <td>2</td>\n      <td>10</td>\n      <td>0</td>\n    </tr>\n    <tr>\n      <th>2021-12-01</th>\n      <td>53</td>\n      <td>1</td>\n      <td>1</td>\n      <td>17</td>\n      <td>32</td>\n      <td>0</td>\n    </tr>\n    <tr>\n      <th>2022-01-01</th>\n      <td>87</td>\n      <td>0</td>\n      <td>0</td>\n      <td>31</td>\n      <td>35</td>\n      <td>166875</td>\n    </tr>\n    <tr>\n      <th>2022-02-01</th>\n      <td>192</td>\n      <td>4</td>\n      <td>2</td>\n      <td>26</td>\n      <td>13</td>\n      <td>0</td>\n    </tr>\n    <tr>\n      <th>2022-03-01</th>\n      <td>26</td>\n      <td>2</td>\n      <td>7</td>\n      <td>6</td>\n      <td>23</td>\n      <td>0</td>\n    </tr>\n  </tbody>\n</table>\n<p>228 rows × 6 columns</p>\n</div>"
     },
     "execution_count": 79,
     "metadata": {},
     "output_type": "execute_result"
    }
   ],
   "source": [
    "df_edits_count = df_edits_count.fillna(0).astype(int)\n",
    "df_edits_count"
   ],
   "metadata": {
    "collapsed": false,
    "pycharm": {
     "name": "#%%\n"
    }
   }
  },
  {
   "cell_type": "code",
   "execution_count": 80,
   "outputs": [
    {
     "name": "stdout",
     "output_type": "stream",
     "text": [
      "Int64Index([2002, 2002, 2002, 2002, 2002, 2002, 2002, 2002, 2002, 2004,\n",
      "            ...\n",
      "            2021, 2021, 2021, 2021, 2021, 2021, 2021, 2022, 2022, 2022],\n",
      "           dtype='int64', name='Month', length=228)\n"
     ]
    }
   ],
   "source": [
    "# Select the edits per year and month\n",
    "edits_year = df_edits_count.index.year\n",
    "print(edits_year)"
   ],
   "metadata": {
    "collapsed": false,
    "pycharm": {
     "name": "#%%\n"
    }
   }
  },
  {
   "cell_type": "code",
   "execution_count": 81,
   "outputs": [
    {
     "data": {
      "text/plain": "Month\n2002       492\n2004      5566\n2005      5782\n2006      6699\n2007      6896\n2008     16678\n2009     14475\n2010     21183\n2011     54061\n2012     55732\n2013     57889\n2014     62237\n2015     71509\n2016     75652\n2017     76022\n2018     76624\n2019     77759\n2020     77549\n2021    137795\n2022    166875\nName: Size, dtype: int64"
     },
     "execution_count": 81,
     "metadata": {},
     "output_type": "execute_result"
    }
   ],
   "source": [
    "size_year = df_edits_count[\"Size\"].groupby(edits_year).sum()\n",
    "size_year"
   ],
   "metadata": {
    "collapsed": false,
    "pycharm": {
     "name": "#%%\n"
    }
   }
  },
  {
   "cell_type": "code",
   "execution_count": 178,
   "outputs": [
    {
     "data": {
      "text/plain": "       Edits  Minor edits  Editors\nMonth                             \n2002       8            2        6\n2004      32           16       11\n2005      16            3        9\n2006      17            6        5\n2007      16            7        4\n2008      42           27        2\n2009      38           17        9\n2010      30           12        7\n2011     203           28       33\n2012      55           18        1\n2013      39           11       14\n2014      32            8        7\n2015      99           59        7\n2016      22            8        6\n2017      19            6        4\n2018      14            5        4\n2019      14            6        4\n2020      24           14        3\n2021     261           64       10\n2022     305           63        6",
      "text/html": "<div>\n<style scoped>\n    .dataframe tbody tr th:only-of-type {\n        vertical-align: middle;\n    }\n\n    .dataframe tbody tr th {\n        vertical-align: top;\n    }\n\n    .dataframe thead th {\n        text-align: right;\n    }\n</style>\n<table border=\"1\" class=\"dataframe\">\n  <thead>\n    <tr style=\"text-align: right;\">\n      <th></th>\n      <th>Edits</th>\n      <th>Minor edits</th>\n      <th>Editors</th>\n    </tr>\n    <tr>\n      <th>Month</th>\n      <th></th>\n      <th></th>\n      <th></th>\n    </tr>\n  </thead>\n  <tbody>\n    <tr>\n      <th>2002</th>\n      <td>8</td>\n      <td>2</td>\n      <td>6</td>\n    </tr>\n    <tr>\n      <th>2004</th>\n      <td>32</td>\n      <td>16</td>\n      <td>11</td>\n    </tr>\n    <tr>\n      <th>2005</th>\n      <td>16</td>\n      <td>3</td>\n      <td>9</td>\n    </tr>\n    <tr>\n      <th>2006</th>\n      <td>17</td>\n      <td>6</td>\n      <td>5</td>\n    </tr>\n    <tr>\n      <th>2007</th>\n      <td>16</td>\n      <td>7</td>\n      <td>4</td>\n    </tr>\n    <tr>\n      <th>2008</th>\n      <td>42</td>\n      <td>27</td>\n      <td>2</td>\n    </tr>\n    <tr>\n      <th>2009</th>\n      <td>38</td>\n      <td>17</td>\n      <td>9</td>\n    </tr>\n    <tr>\n      <th>2010</th>\n      <td>30</td>\n      <td>12</td>\n      <td>7</td>\n    </tr>\n    <tr>\n      <th>2011</th>\n      <td>203</td>\n      <td>28</td>\n      <td>33</td>\n    </tr>\n    <tr>\n      <th>2012</th>\n      <td>55</td>\n      <td>18</td>\n      <td>1</td>\n    </tr>\n    <tr>\n      <th>2013</th>\n      <td>39</td>\n      <td>11</td>\n      <td>14</td>\n    </tr>\n    <tr>\n      <th>2014</th>\n      <td>32</td>\n      <td>8</td>\n      <td>7</td>\n    </tr>\n    <tr>\n      <th>2015</th>\n      <td>99</td>\n      <td>59</td>\n      <td>7</td>\n    </tr>\n    <tr>\n      <th>2016</th>\n      <td>22</td>\n      <td>8</td>\n      <td>6</td>\n    </tr>\n    <tr>\n      <th>2017</th>\n      <td>19</td>\n      <td>6</td>\n      <td>4</td>\n    </tr>\n    <tr>\n      <th>2018</th>\n      <td>14</td>\n      <td>5</td>\n      <td>4</td>\n    </tr>\n    <tr>\n      <th>2019</th>\n      <td>14</td>\n      <td>6</td>\n      <td>4</td>\n    </tr>\n    <tr>\n      <th>2020</th>\n      <td>24</td>\n      <td>14</td>\n      <td>3</td>\n    </tr>\n    <tr>\n      <th>2021</th>\n      <td>261</td>\n      <td>64</td>\n      <td>10</td>\n    </tr>\n    <tr>\n      <th>2022</th>\n      <td>305</td>\n      <td>63</td>\n      <td>6</td>\n    </tr>\n  </tbody>\n</table>\n</div>"
     },
     "execution_count": 178,
     "metadata": {},
     "output_type": "execute_result"
    }
   ],
   "source": [
    "# Sum per year\n",
    "edit_sum_year = df_edits_count[\"Edits\"].groupby(edits_year).sum()\n",
    "minor_sum_year = df_edits_count[\"Minor edits\"].groupby(edits_year).sum()\n",
    "editors_sum_year = df_edits_count[\"IPs\"].groupby(edits_year).sum()\n",
    "size_year = df_edits_count[\"Size\"].groupby(edits_year).sum()\n",
    "\n",
    "edit_sum_year  = pd.DataFrame(edit_sum_year)\n",
    "edit_sum_year[\"Minor edits\"] = pd.DataFrame(minor_sum_year)\n",
    "edit_sum_year[\"Editors\"] = pd.DataFrame(editors_sum_year)\n",
    "# edit_sum_year['Size'] = pd.DataFrame(size_year)\n",
    "edit_sum_year"
   ],
   "metadata": {
    "collapsed": false,
    "pycharm": {
     "name": "#%%\n"
    }
   }
  },
  {
   "cell_type": "code",
   "execution_count": 187,
   "outputs": [],
   "source": [
    "def visualize_date(data, fig_size, kind, width, color, xlabel, ylabel, title, img_format, save_path):\n",
    "    \"\"\"\n",
    "    :param data: df to be used during plotting.\n",
    "    :param kind: str. The kind of plot to do (e.g., \"bar\")\n",
    "    :param width: float. Width of the bars\n",
    "    :param color: str. color to use (is none specific, put None)\n",
    "    :param xlabel: str. xlabel name\n",
    "    :param ylabel: str. ylabel name\n",
    "    :param title: str. plot's title\n",
    "    :param img_format: format to save the image (e.g eps, png, svg)\n",
    "    :param save_path: Path to the Images folder and name for the image.\n",
    "    :return: The visualization of the data given\n",
    "    \"\"\"\n",
    "    plt.figure(figsize=fig_size)\n",
    "\n",
    "    if kind == \"line\":\n",
    "        ax = data.plot(kind=kind, color=color)\n",
    "    else:\n",
    "        ax = data.plot(kind=kind, width=width, color=color)\n",
    "\n",
    "    ax.set_xlabel(xlabel)\n",
    "    ax.set_ylabel(ylabel)\n",
    "    ax.set_title(title)\n",
    "    plt.xticks(rotation=65)\n",
    "    plt.tight_layout()\n",
    "\n",
    "    # Save image high resolution image\n",
    "    # Uncomment to save image\n",
    "    # format can include # e.g .png, .svg, etc.\n",
    "    plt.savefig(save_path, format=img_format, dpi=1200)\n",
    "    plt.show()"
   ],
   "metadata": {
    "collapsed": false,
    "pycharm": {
     "name": "#%%\n"
    }
   }
  },
  {
   "cell_type": "code",
   "execution_count": 189,
   "outputs": [
    {
     "name": "stderr",
     "output_type": "stream",
     "text": [
      "The PostScript backend does not support transparency; partially transparent artists will be rendered opaque.\n",
      "The PostScript backend does not support transparency; partially transparent artists will be rendered opaque.\n"
     ]
    },
    {
     "data": {
      "text/plain": "<Figure size 1800x1080 with 0 Axes>"
     },
     "metadata": {},
     "output_type": "display_data"
    },
    {
     "data": {
      "text/plain": "<Figure size 432x288 with 1 Axes>",
      "image/png": "[encoded data removed]"
     },
     "metadata": {
      "needs_background": "light"
     },
     "output_type": "display_data"
    }
   ],
   "source": [
    "# Plot edits per year\n",
    "visualize_date(edit_sum_year, (25,15), \"bar\", 0.82, None, \"Year\", \"Edits count\", \"Edits count per year\", \"eps\", \"Images/edits_count.eps\")"
   ],
   "metadata": {
    "collapsed": false,
    "pycharm": {
     "name": "#%%\n"
    }
   }
  },
  {
   "cell_type": "code",
   "execution_count": 190,
   "outputs": [
    {
     "name": "stderr",
     "output_type": "stream",
     "text": [
      "The PostScript backend does not support transparency; partially transparent artists will be rendered opaque.\n",
      "The PostScript backend does not support transparency; partially transparent artists will be rendered opaque.\n"
     ]
    },
    {
     "data": {
      "text/plain": "<Figure size 1800x1080 with 0 Axes>"
     },
     "metadata": {},
     "output_type": "display_data"
    },
    {
     "data": {
      "text/plain": "<Figure size 432x288 with 1 Axes>",
      "image/png": "[encoded data removed]"
     },
     "metadata": {
      "needs_background": "light"
     },
     "output_type": "display_data"
    }
   ],
   "source": [
    "# grouped size as df\n",
    "size_year = pd.DataFrame(size_year)\n",
    "\n",
    "# Plot article's size\n",
    "visualize_date(size_year,(25,15), \"bar\", 0.5, \"darkblue\", \"Year\", \"Size\", \"Article's size per year\", \"eps\", \"Images/article_size.eps\")"
   ],
   "metadata": {
    "collapsed": false,
    "pycharm": {
     "name": "#%%\n"
    }
   }
  },
  {
   "cell_type": "markdown",
   "source": [
    "### 2. Views count"
   ],
   "metadata": {
    "collapsed": false,
    "pycharm": {
     "name": "#%% md\n"
    }
   }
  },
  {
   "cell_type": "code",
   "execution_count": 68,
   "outputs": [
    {
     "data": {
      "text/plain": "            Embodied cognition[en]  Cognitive science[en]  Cognition[en]\nDateTime                                                                \n2008-01-01                      12                    426            612\n2008-01-02                       4                    600           1147\n2008-01-03                       4                    641           1256\n2008-01-04                      14                    627           1197\n2008-01-05                       7                    521            864\n...                            ...                    ...            ...\n2022-03-13                     156                    224            395\n2022-03-14                     196                    318            561\n2022-03-15                     186                    293            574\n2022-03-16                     242                    320            442\n2022-03-17                     140                    179            456\n\n[5190 rows x 3 columns]",
      "text/html": "<div>\n<style scoped>\n    .dataframe tbody tr th:only-of-type {\n        vertical-align: middle;\n    }\n\n    .dataframe tbody tr th {\n        vertical-align: top;\n    }\n\n    .dataframe thead th {\n        text-align: right;\n    }\n</style>\n<table border=\"1\" class=\"dataframe\">\n  <thead>\n    <tr style=\"text-align: right;\">\n      <th></th>\n      <th>Embodied cognition[en]</th>\n      <th>Cognitive science[en]</th>\n      <th>Cognition[en]</th>\n    </tr>\n    <tr>\n      <th>DateTime</th>\n      <th></th>\n      <th></th>\n      <th></th>\n    </tr>\n  </thead>\n  <tbody>\n    <tr>\n      <th>2008-01-01</th>\n      <td>12</td>\n      <td>426</td>\n      <td>612</td>\n    </tr>\n    <tr>\n      <th>2008-01-02</th>\n      <td>4</td>\n      <td>600</td>\n      <td>1147</td>\n    </tr>\n    <tr>\n      <th>2008-01-03</th>\n      <td>4</td>\n      <td>641</td>\n      <td>1256</td>\n    </tr>\n    <tr>\n      <th>2008-01-04</th>\n      <td>14</td>\n      <td>627</td>\n      <td>1197</td>\n    </tr>\n    <tr>\n      <th>2008-01-05</th>\n      <td>7</td>\n      <td>521</td>\n      <td>864</td>\n    </tr>\n    <tr>\n      <th>...</th>\n      <td>...</td>\n      <td>...</td>\n      <td>...</td>\n    </tr>\n    <tr>\n      <th>2022-03-13</th>\n      <td>156</td>\n      <td>224</td>\n      <td>395</td>\n    </tr>\n    <tr>\n      <th>2022-03-14</th>\n      <td>196</td>\n      <td>318</td>\n      <td>561</td>\n    </tr>\n    <tr>\n      <th>2022-03-15</th>\n      <td>186</td>\n      <td>293</td>\n      <td>574</td>\n    </tr>\n    <tr>\n      <th>2022-03-16</th>\n      <td>242</td>\n      <td>320</td>\n      <td>442</td>\n    </tr>\n    <tr>\n      <th>2022-03-17</th>\n      <td>140</td>\n      <td>179</td>\n      <td>456</td>\n    </tr>\n  </tbody>\n</table>\n<p>5190 rows × 3 columns</p>\n</div>"
     },
     "execution_count": 68,
     "metadata": {},
     "output_type": "execute_result"
    }
   ],
   "source": [
    "df_views_count"
   ],
   "metadata": {
    "collapsed": false,
    "pycharm": {
     "name": "#%%\n"
    }
   }
  },
  {
   "cell_type": "code",
   "execution_count": 204,
   "outputs": [
    {
     "data": {
      "text/plain": "          Embodied cognition[en]\nDateTime                        \n2008                   28.273224\n2009                   88.493151\n2010                  160.838356\n2011                  192.575342\n2012                  259.724044\n2013                  294.917808\n2014                  299.682192\n2015                  265.745205\n2016                  236.120219\n2017                  223.556164\n2018                  216.841096\n2019                  196.682192\n2020                  179.857923\n2021                  171.210959\n2022                  186.184211",
      "text/html": "<div>\n<style scoped>\n    .dataframe tbody tr th:only-of-type {\n        vertical-align: middle;\n    }\n\n    .dataframe tbody tr th {\n        vertical-align: top;\n    }\n\n    .dataframe thead th {\n        text-align: right;\n    }\n</style>\n<table border=\"1\" class=\"dataframe\">\n  <thead>\n    <tr style=\"text-align: right;\">\n      <th></th>\n      <th>Embodied cognition[en]</th>\n    </tr>\n    <tr>\n      <th>DateTime</th>\n      <th></th>\n    </tr>\n  </thead>\n  <tbody>\n    <tr>\n      <th>2008</th>\n      <td>28.273224</td>\n    </tr>\n    <tr>\n      <th>2009</th>\n      <td>88.493151</td>\n    </tr>\n    <tr>\n      <th>2010</th>\n      <td>160.838356</td>\n    </tr>\n    <tr>\n      <th>2011</th>\n      <td>192.575342</td>\n    </tr>\n    <tr>\n      <th>2012</th>\n      <td>259.724044</td>\n    </tr>\n    <tr>\n      <th>2013</th>\n      <td>294.917808</td>\n    </tr>\n    <tr>\n      <th>2014</th>\n      <td>299.682192</td>\n    </tr>\n    <tr>\n      <th>2015</th>\n      <td>265.745205</td>\n    </tr>\n    <tr>\n      <th>2016</th>\n      <td>236.120219</td>\n    </tr>\n    <tr>\n      <th>2017</th>\n      <td>223.556164</td>\n    </tr>\n    <tr>\n      <th>2018</th>\n      <td>216.841096</td>\n    </tr>\n    <tr>\n      <th>2019</th>\n      <td>196.682192</td>\n    </tr>\n    <tr>\n      <th>2020</th>\n      <td>179.857923</td>\n    </tr>\n    <tr>\n      <th>2021</th>\n      <td>171.210959</td>\n    </tr>\n    <tr>\n      <th>2022</th>\n      <td>186.184211</td>\n    </tr>\n  </tbody>\n</table>\n</div>"
     },
     "execution_count": 204,
     "metadata": {},
     "output_type": "execute_result"
    }
   ],
   "source": [
    "# select the month\n",
    "df_month = df_views_count.index.month\n",
    "df_year = df_views_count.index.year\n",
    "# Moving averages per year (52 weeks window)\n",
    "views_mean = df_views_count['Embodied cognition[en]'].groupby(df_year).mean()\n",
    "views_mean = pd.DataFrame(views_mean)\n",
    "\n",
    "views_mean"
   ],
   "metadata": {
    "collapsed": false,
    "pycharm": {
     "name": "#%%\n"
    }
   }
  },
  {
   "cell_type": "code",
   "execution_count": 209,
   "outputs": [
    {
     "name": "stderr",
     "output_type": "stream",
     "text": [
      "The PostScript backend does not support transparency; partially transparent artists will be rendered opaque.\n",
      "The PostScript backend does not support transparency; partially transparent artists will be rendered opaque.\n"
     ]
    },
    {
     "data": {
      "text/plain": "<Figure size 576x360 with 0 Axes>"
     },
     "metadata": {},
     "output_type": "display_data"
    },
    {
     "data": {
      "text/plain": "<Figure size 432x288 with 1 Axes>",
      "image/png": "[encoded data removed]"
     },
     "metadata": {
      "needs_background": "light"
     },
     "output_type": "display_data"
    }
   ],
   "source": [
    "\n",
    "visualize_date(views_mean, (8,5), \"line\", None, \"blue\", \"Date\", \"Page views\", \"Mean views per year\", \"eps\", \"Images/views_year.eps\")\n",
    "# ax = df_mean.plot()\n",
    "# ax.set_xlabel(\"Date\")\n",
    "# ax.set_ylabel(\"Page views\")\n",
    "# ax.set_title(\"Yearly rolling mean\")\n",
    "#\n",
    "# plt.show()"
   ],
   "metadata": {
    "collapsed": false,
    "pycharm": {
     "name": "#%%\n"
    }
   }
  },
  {
   "cell_type": "code",
   "execution_count": 374,
   "outputs": [
    {
     "data": {
      "text/plain": "DateTime\n1     216.911290\n2     243.355030\n3     228.083333\n4     234.469444\n5     213.661290\n6     172.911111\n7     146.502688\n8     150.236559\n9     195.669444\n10    241.295699\n11    245.041667\n12    209.336022\nName: Embodied cognition[en], dtype: float64"
     },
     "execution_count": 374,
     "metadata": {},
     "output_type": "execute_result"
    }
   ],
   "source": [
    "views_before_project = df_views_count['2020-03-01':'2021-02-28']\n",
    "views_during_project = df_views_count['2021-03-01':'2022-02-28']\n",
    "\n",
    "\n",
    "views_average_1 = df_views_count['2008-03-01':'2020-02-28']\n",
    "\n",
    "views_average_1\n",
    "views_average_1_month = views_average_1.index.month\n",
    "#\n",
    "#\n",
    "views_average_1 = views_average_1['Embodied cognition[en]'].groupby(views_average_1_month).mean()\n",
    "#\n",
    "# # views_during_project\n",
    "# views_before_project_month = views_before_project.index.month\n",
    "# views_during_project_month = views_during_project.index.month\n",
    "#\n",
    "views_average_1\n",
    "# # views_during_project.tail(50)\n",
    "#"
   ],
   "metadata": {
    "collapsed": false,
    "pycharm": {
     "name": "#%%\n"
    }
   }
  },
  {
   "cell_type": "code",
   "execution_count": 377,
   "outputs": [
    {
     "data": {
      "text/plain": "          Before      After\ncount  12.000000  12.000000\nmean    0.856535   0.834481\nstd     0.070292   0.041711\nmin     0.761748   0.758592\n25%     0.807020   0.806702\n50%     0.858352   0.837091\n75%     0.898023   0.855575\nmax     1.011361   0.913186",
      "text/html": "<div>\n<style scoped>\n    .dataframe tbody tr th:only-of-type {\n        vertical-align: middle;\n    }\n\n    .dataframe tbody tr th {\n        vertical-align: top;\n    }\n\n    .dataframe thead th {\n        text-align: right;\n    }\n</style>\n<table border=\"1\" class=\"dataframe\">\n  <thead>\n    <tr style=\"text-align: right;\">\n      <th></th>\n      <th>Before</th>\n      <th>After</th>\n    </tr>\n  </thead>\n  <tbody>\n    <tr>\n      <th>count</th>\n      <td>12.000000</td>\n      <td>12.000000</td>\n    </tr>\n    <tr>\n      <th>mean</th>\n      <td>0.856535</td>\n      <td>0.834481</td>\n    </tr>\n    <tr>\n      <th>std</th>\n      <td>0.070292</td>\n      <td>0.041711</td>\n    </tr>\n    <tr>\n      <th>min</th>\n      <td>0.761748</td>\n      <td>0.758592</td>\n    </tr>\n    <tr>\n      <th>25%</th>\n      <td>0.807020</td>\n      <td>0.806702</td>\n    </tr>\n    <tr>\n      <th>50%</th>\n      <td>0.858352</td>\n      <td>0.837091</td>\n    </tr>\n    <tr>\n      <th>75%</th>\n      <td>0.898023</td>\n      <td>0.855575</td>\n    </tr>\n    <tr>\n      <th>max</th>\n      <td>1.011361</td>\n      <td>0.913186</td>\n    </tr>\n  </tbody>\n</table>\n</div>"
     },
     "execution_count": 377,
     "metadata": {},
     "output_type": "execute_result"
    }
   ],
   "source": [
    "views_during_project_mean = views_during_project['Embodied cognition[en]'].groupby(views_during_project_month).mean()\n",
    "views_before_project_mean = views_before_project['Embodied cognition[en]'].groupby(views_before_project_month).mean()\n",
    "views_cogsci_project_mean = views_during_project['Cognitive science[en]'].groupby(views_during_project_month).sum()\n",
    "\n",
    "mean_view_average_before = views_before_project_mean / views_average_1\n",
    "mean_view_average_after = views_during_project_mean / views_average_1\n",
    "\n",
    "# Without normalizing\n",
    "mean_view = pd.DataFrame()\n",
    "mean_view['Before'] = pd.DataFrame(views_before_project_mean)\n",
    "mean_view['After'] = pd.DataFrame(views_during_project_mean)\n",
    "# mean_view['CogSci'] = pd.DataFrame(views_cogsci_project_mean)\n",
    "# mean_view\n",
    "# mean_view.describe()\n",
    "\n",
    "# Normalizing the data\n",
    "mean_view_averaged = pd.DataFrame()\n",
    "mean_view_averaged['Before'] = pd.DataFrame(mean_view_average_before)\n",
    "mean_view_averaged['After'] = pd.DataFrame(mean_view_average_after)\n",
    "\n",
    "mean_view_averaged.describe()"
   ],
   "metadata": {
    "collapsed": false,
    "pycharm": {
     "name": "#%%\n"
    }
   }
  },
  {
   "cell_type": "code",
   "execution_count": 365,
   "outputs": [
    {
     "data": {
      "text/plain": "<Figure size 432x288 with 1 Axes>",
      "image/png": "[encoded data removed]"
     },
     "metadata": {
      "needs_background": "light"
     },
     "output_type": "display_data"
    }
   ],
   "source": [
    "# fig, ax  = plt.subplots()\n",
    "\n",
    "ax = mean_view.plot(kind='box')\n",
    "# ax = mean_view.plot()\n",
    "ax.set_xlabel(\"Date\")\n",
    "ax.set_ylabel(\"Page views\")\n",
    "ax.set_title(\"monthly rolling count\")\n",
    "\n",
    "plt.show()"
   ],
   "metadata": {
    "collapsed": false,
    "pycharm": {
     "name": "#%%\n"
    }
   }
  },
  {
   "cell_type": "code",
   "execution_count": 378,
   "outputs": [
    {
     "data": {
      "text/plain": "<Figure size 432x288 with 1 Axes>",
      "image/png": "[encoded data removed]"
     },
     "metadata": {
      "needs_background": "light"
     },
     "output_type": "display_data"
    }
   ],
   "source": [
    "views_before_project_mean = views_before_project['Embodied cognition[en]'].groupby(views_before_project_month)\n",
    "\n",
    "ax = mean_view_averaged.plot()\n",
    "ax.set_xlabel(\"Date\")\n",
    "ax.set_ylabel(\"Page views\")\n",
    "ax.set_title(\"Previous monthly rolling mean\")\n",
    "\n",
    "plt.show()"
   ],
   "metadata": {
    "collapsed": false,
    "pycharm": {
     "name": "#%%\n"
    }
   }
  }
 ],
 "metadata": {
  "kernelspec": {
   "name": "python3810jvsc74a57bd03e020998c2fe0b254a9e4f093df7ec737de927d3a5d72205514527d8d04320e2",
   "language": "python",
   "display_name": "Python 3.8.10 64-bit (conda)"
  },
  "language_info": {
   "codemirror_mode": {
    "name": "ipython",
    "version": 2
   },
   "file_extension": ".py",
   "mimetype": "text/x-python",
   "name": "python",
   "nbconvert_exporter": "python",
   "pygments_lexer": "ipython2",
   "version": "2.7.6"
  }
 },
 "nbformat": 4,
 "nbformat_minor": 0
}